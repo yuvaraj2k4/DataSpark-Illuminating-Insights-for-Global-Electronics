{
 "cells": [
  {
   "cell_type": "markdown",
   "metadata": {},
   "source": [
    "**MERGING DATA**"
   ]
  },
  {
   "cell_type": "code",
   "execution_count": 56,
   "metadata": {},
   "outputs": [],
   "source": [
    "import pandas as pd\n",
    "sales = pd.read_csv(r\"C:\\Users\\navee\\OneDrive\\Desktop\\DATA_SPARK(project-2)\\Sales_cleaned.csv\")\n",
    "customers = pd.read_csv(r\"C:\\Users\\navee\\OneDrive\\Desktop\\DATA_SPARK(project-2)\\cleanes_customers\")\n",
    "products = pd.read_csv(r\"C:\\Users\\navee\\OneDrive\\Desktop\\DATA_SPARK(project-2)\\cleaned_products.csv\")\n",
    "stores = pd.read_csv(r\"C:\\Users\\navee\\OneDrive\\Desktop\\DATA_SPARK(project-2)\\cleaned_stores.csv\")\n",
    "exchange_rates = pd.read_csv(r\"C:\\Users\\navee\\OneDrive\\Desktop\\DATA_SPARK(project-2)\\cleaned_exchange_rate_data.csv\")"
   ]
  },
  {
   "cell_type": "code",
   "execution_count": 57,
   "metadata": {},
   "outputs": [],
   "source": [
    "sales_customers = pd.merge(sales, customers, on='CustomerKey', how='inner')"
   ]
  },
  {
   "cell_type": "code",
   "execution_count": 58,
   "metadata": {},
   "outputs": [],
   "source": [
    "sales_customers_products = pd.merge(sales_customers, products, on='ProductKey', how='inner')"
   ]
  },
  {
   "cell_type": "code",
   "execution_count": 59,
   "metadata": {},
   "outputs": [],
   "source": [
    "sales_customers_products_stores = pd.merge(sales_customers_products, stores, on='StoreKey', how='inner')"
   ]
  },
  {
   "cell_type": "code",
   "execution_count": 60,
   "metadata": {},
   "outputs": [],
   "source": [
    "full_data = pd.merge(\n",
    "    sales_customers_products_stores,\n",
    "    exchange_rates,\n",
    "    left_on=['Currency Code', 'Order Date'],\n",
    "    right_on=['Currency', 'Date'],\n",
    "    how='left'  \n",
    ")"
   ]
  },
  {
   "cell_type": "code",
   "execution_count": 61,
   "metadata": {},
   "outputs": [
    {
     "name": "stdout",
     "output_type": "stream",
     "text": [
      "Order Number      0\n",
      "Line Item         0\n",
      "Order Date        0\n",
      "CustomerKey       0\n",
      "StoreKey          0\n",
      "ProductKey        0\n",
      "Quantity          0\n",
      "Currency Code     0\n",
      "Gender            0\n",
      "Name              0\n",
      "City              0\n",
      "State Code        0\n",
      "State_x           0\n",
      "Zip Code          0\n",
      "Country_x         0\n",
      "Continent         0\n",
      "Birthday          0\n",
      "Age               0\n",
      "Product Name      0\n",
      "Brand             0\n",
      "Color             0\n",
      "Unit Cost USD     0\n",
      "Unit Price USD    0\n",
      "SubcategoryKey    0\n",
      "Subcategory       0\n",
      "CategoryKey       0\n",
      "Category          0\n",
      "Country_y         0\n",
      "State_y           0\n",
      "Square Meters     0\n",
      "Open Date         0\n",
      "Store Age         0\n",
      "Date              0\n",
      "Currency          0\n",
      "Exchange          0\n",
      "dtype: int64\n"
     ]
    }
   ],
   "source": [
    "print(full_data.isnull().sum())"
   ]
  },
  {
   "cell_type": "code",
   "execution_count": 62,
   "metadata": {},
   "outputs": [],
   "source": [
    "full_data.drop_duplicates(inplace=True)"
   ]
  },
  {
   "cell_type": "code",
   "execution_count": 63,
   "metadata": {},
   "outputs": [
    {
     "name": "stdout",
     "output_type": "stream",
     "text": [
      "   Order Number  Line Item  Order Date  CustomerKey  StoreKey  ProductKey  \\\n",
      "0        366000          1  2016-01-01       265598        10        1304   \n",
      "1        366001          1  2016-01-01      1269051         0        1048   \n",
      "2        366001          2  2016-01-01      1269051         0        2007   \n",
      "3        366002          1  2016-01-01       266019         0        1106   \n",
      "4        366002          2  2016-01-01       266019         0         373   \n",
      "\n",
      "   Quantity Currency Code  Gender            Name  ... CategoryKey  \\\n",
      "0         1           CAD    Male    Tyler Vaught  ...           4   \n",
      "1         2           USD    Male  Frank Upchurch  ...           4   \n",
      "2         1           USD    Male  Frank Upchurch  ...           8   \n",
      "3         7           CAD  Female      Joan Roche  ...           4   \n",
      "4         1           CAD  Female      Joan Roche  ...           3   \n",
      "\n",
      "                 Category Country_y  State_y Square Meters   Open Date  \\\n",
      "0  Cameras and camcorders    Canada  Nunavut        1210.0  2015-04-04   \n",
      "1  Cameras and camcorders    Online   Online        1347.5  2010-01-01   \n",
      "2         Home Appliances    Online   Online        1347.5  2010-01-01   \n",
      "3  Cameras and camcorders    Online   Online        1347.5  2010-01-01   \n",
      "4               Computers    Online   Online        1347.5  2010-01-01   \n",
      "\n",
      "   Store Age        Date Currency Exchange  \n",
      "0   9.550685  2016-01-01      CAD   1.3884  \n",
      "1  14.808219  2016-01-01      USD   1.0000  \n",
      "2  14.808219  2016-01-01      USD   1.0000  \n",
      "3  14.808219  2016-01-01      CAD   1.3884  \n",
      "4  14.808219  2016-01-01      CAD   1.3884  \n",
      "\n",
      "[5 rows x 35 columns]\n"
     ]
    }
   ],
   "source": [
    "print(full_data.head())"
   ]
  },
  {
   "cell_type": "code",
   "execution_count": 64,
   "metadata": {},
   "outputs": [
    {
     "name": "stdout",
     "output_type": "stream",
     "text": [
      "Index(['Order Number', 'Line Item', 'Order Date', 'CustomerKey', 'StoreKey',\n",
      "       'ProductKey', 'Quantity', 'Currency Code', 'Gender', 'Name', 'City',\n",
      "       'State Code', 'State_x', 'Zip Code', 'Country_x', 'Continent',\n",
      "       'Birthday', 'Age', 'Product Name', 'Brand', 'Color', 'Unit Cost USD',\n",
      "       'Unit Price USD', 'SubcategoryKey', 'Subcategory', 'CategoryKey',\n",
      "       'Category', 'Country_y', 'State_y', 'Square Meters', 'Open Date',\n",
      "       'Store Age', 'Date', 'Currency', 'Exchange'],\n",
      "      dtype='object')\n"
     ]
    }
   ],
   "source": [
    "print(full_data.columns)"
   ]
  },
  {
   "cell_type": "code",
   "execution_count": 65,
   "metadata": {},
   "outputs": [],
   "source": [
    "full_data['Sales Amount'] = full_data['Quantity'] * full_data['Unit Price USD']"
   ]
  },
  {
   "cell_type": "code",
   "execution_count": 66,
   "metadata": {},
   "outputs": [],
   "source": [
    "full_data['Store Location'] = full_data['City'] + ', ' + full_data['State_y'] + ', ' + full_data['Country_y'] + ', ' + full_data['Continent']"
   ]
  },
  {
   "cell_type": "code",
   "execution_count": 67,
   "metadata": {},
   "outputs": [],
   "source": [
    "full_data['Exchange Rate'] = full_data['Exchange']"
   ]
  },
  {
   "cell_type": "code",
   "execution_count": 68,
   "metadata": {},
   "outputs": [
    {
     "name": "stdout",
     "output_type": "stream",
     "text": [
      "   Order Number  Order Date  CustomerKey  Gender  \\\n",
      "0        366000  2016-01-01       265598    Male   \n",
      "1        366001  2016-01-01      1269051    Male   \n",
      "2        366001  2016-01-01      1269051    Male   \n",
      "3        366002  2016-01-01       266019  Female   \n",
      "4        366002  2016-01-01       266019  Female   \n",
      "\n",
      "                             Product Name            Brand  Sales Amount  \\\n",
      "0         Contoso Lens Adapter M450 White          Contoso         68.00   \n",
      "1         A. Datum SLR Camera X136 Silver         A. Datum        854.00   \n",
      "2  Fabrikam Microwave 1.5CuFt X1100 Black         Fabrikam        665.94   \n",
      "3          Contoso SLR Camera M146 Orange          Contoso       2254.00   \n",
      "4   Adventure Works Laptop8.9 E0890 White  Adventure Works        326.00   \n",
      "\n",
      "                            Store Location Currency Code  Exchange Rate  \n",
      "0   London, Nunavut, Canada, North America           CAD         1.3884  \n",
      "1   Auberry, Online, Online, North America           USD         1.0000  \n",
      "2   Auberry, Online, Online, North America           USD         1.0000  \n",
      "3  Red Deer, Online, Online, North America           CAD         1.3884  \n",
      "4  Red Deer, Online, Online, North America           CAD         1.3884  \n"
     ]
    }
   ],
   "source": [
    "print(full_data[['Order Number', 'Order Date', 'CustomerKey', 'Gender', \n",
    "                 'Product Name', 'Brand', 'Sales Amount', 'Store Location', \n",
    "                 'Currency Code', 'Exchange Rate']].head())"
   ]
  },
  {
   "cell_type": "code",
   "execution_count": 74,
   "metadata": {},
   "outputs": [],
   "source": [
    "full_data = full_data.to_csv(r\"C:\\Users\\navee\\OneDrive\\Desktop\\DATA_SPARK(project-2)\\full_data\")"
   ]
  },
  {
   "cell_type": "code",
   "execution_count": 73,
   "metadata": {},
   "outputs": [
    {
     "name": "stdout",
     "output_type": "stream",
     "text": [
      "<class 'pandas.core.frame.DataFrame'>\n",
      "RangeIndex: 62884 entries, 0 to 62883\n",
      "Data columns (total 38 columns):\n",
      " #   Column          Non-Null Count  Dtype         \n",
      "---  ------          --------------  -----         \n",
      " 0   Order Number    62884 non-null  int64         \n",
      " 1   Line Item       62884 non-null  int64         \n",
      " 2   Order Date      62884 non-null  datetime64[ns]\n",
      " 3   CustomerKey     62884 non-null  int64         \n",
      " 4   StoreKey        62884 non-null  int64         \n",
      " 5   ProductKey      62884 non-null  int64         \n",
      " 6   Quantity        62884 non-null  int64         \n",
      " 7   Currency Code   62884 non-null  object        \n",
      " 8   Gender          62884 non-null  object        \n",
      " 9   Name            62884 non-null  object        \n",
      " 10  City            62884 non-null  object        \n",
      " 11  State Code      62884 non-null  object        \n",
      " 12  State_x         62884 non-null  object        \n",
      " 13  Zip Code        62884 non-null  object        \n",
      " 14  Country_x       62884 non-null  object        \n",
      " 15  Continent       62884 non-null  object        \n",
      " 16  Birthday        62884 non-null  datetime64[ns]\n",
      " 17  Age             62884 non-null  int64         \n",
      " 18  Product Name    62884 non-null  object        \n",
      " 19  Brand           62884 non-null  object        \n",
      " 20  Color           62884 non-null  object        \n",
      " 21  Unit Cost USD   62884 non-null  float64       \n",
      " 22  Unit Price USD  62884 non-null  float64       \n",
      " 23  SubcategoryKey  62884 non-null  int64         \n",
      " 24  Subcategory     62884 non-null  object        \n",
      " 25  CategoryKey     62884 non-null  int64         \n",
      " 26  Category        62884 non-null  object        \n",
      " 27  Country_y       62884 non-null  object        \n",
      " 28  State_y         62884 non-null  object        \n",
      " 29  Square Meters   62884 non-null  float64       \n",
      " 30  Open Date       62884 non-null  object        \n",
      " 31  Store Age       62884 non-null  float64       \n",
      " 32  Date            62884 non-null  object        \n",
      " 33  Currency        62884 non-null  object        \n",
      " 34  Exchange        62884 non-null  float64       \n",
      " 35  Sales Amount    62884 non-null  float64       \n",
      " 36  Store Location  62884 non-null  object        \n",
      " 37  Exchange Rate   62884 non-null  float64       \n",
      "dtypes: datetime64[ns](2), float64(7), int64(9), object(20)\n",
      "memory usage: 18.2+ MB\n",
      "None\n"
     ]
    }
   ],
   "source": [
    "print(full_data.info())"
   ]
  },
  {
   "cell_type": "code",
   "execution_count": 70,
   "metadata": {},
   "outputs": [],
   "source": [
    "full_data['Order Date'] = pd.to_datetime(full_data['Order Date'], errors='coerce')"
   ]
  },
  {
   "cell_type": "code",
   "execution_count": 72,
   "metadata": {},
   "outputs": [],
   "source": [
    "full_data['Birthday'] = pd.to_datetime(full_data['Birthday'], errors='coerce')"
   ]
  }
 ],
 "metadata": {
  "kernelspec": {
   "display_name": ".venv",
   "language": "python",
   "name": "python3"
  },
  "language_info": {
   "codemirror_mode": {
    "name": "ipython",
    "version": 3
   },
   "file_extension": ".py",
   "mimetype": "text/x-python",
   "name": "python",
   "nbconvert_exporter": "python",
   "pygments_lexer": "ipython3",
   "version": "3.12.2"
  }
 },
 "nbformat": 4,
 "nbformat_minor": 2
}
