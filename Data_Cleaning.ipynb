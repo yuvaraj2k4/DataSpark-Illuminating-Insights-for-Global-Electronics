{
 "cells": [
  {
   "cell_type": "markdown",
   "metadata": {},
   "source": [
    "**SALES**"
   ]
  },
  {
   "cell_type": "code",
   "execution_count": 11,
   "metadata": {},
   "outputs": [],
   "source": [
    "import pandas as pd\n",
    "import numpy as np\n",
    "\n",
    "sales = pd.read_csv(r\"C:\\Users\\navee\\Downloads\\Sales.csv\")"
   ]
  },
  {
   "cell_type": "code",
   "execution_count": 52,
   "metadata": {},
   "outputs": [
    {
     "name": "stdout",
     "output_type": "stream",
     "text": [
      "   Order Number  Line Item Order Date Delivery Date  CustomerKey  StoreKey  \\\n",
      "0        366000          1   1/1/2016           NaN       265598        10   \n",
      "1        366001          1   1/1/2016     1/13/2016      1269051         0   \n",
      "2        366001          2   1/1/2016     1/13/2016      1269051         0   \n",
      "3        366002          1   1/1/2016     1/12/2016       266019         0   \n",
      "4        366002          2   1/1/2016     1/12/2016       266019         0   \n",
      "\n",
      "   ProductKey  Quantity Currency Code  \n",
      "0        1304         1           CAD  \n",
      "1        1048         2           USD  \n",
      "2        2007         1           USD  \n",
      "3        1106         7           CAD  \n",
      "4         373         1           CAD  \n",
      "<class 'pandas.core.frame.DataFrame'>\n",
      "RangeIndex: 62884 entries, 0 to 62883\n",
      "Data columns (total 9 columns):\n",
      " #   Column         Non-Null Count  Dtype \n",
      "---  ------         --------------  ----- \n",
      " 0   Order Number   62884 non-null  int64 \n",
      " 1   Line Item      62884 non-null  int64 \n",
      " 2   Order Date     62884 non-null  object\n",
      " 3   Delivery Date  13165 non-null  object\n",
      " 4   CustomerKey    62884 non-null  int64 \n",
      " 5   StoreKey       62884 non-null  int64 \n",
      " 6   ProductKey     62884 non-null  int64 \n",
      " 7   Quantity       62884 non-null  int64 \n",
      " 8   Currency Code  62884 non-null  object\n",
      "dtypes: int64(6), object(3)\n",
      "memory usage: 4.3+ MB\n",
      "None\n"
     ]
    }
   ],
   "source": [
    "print(sales.head())\n",
    "print(sales.info())"
   ]
  },
  {
   "cell_type": "code",
   "execution_count": 53,
   "metadata": {},
   "outputs": [
    {
     "name": "stdout",
     "output_type": "stream",
     "text": [
      "Order Number         0\n",
      "Line Item            0\n",
      "Order Date           0\n",
      "Delivery Date    49719\n",
      "CustomerKey          0\n",
      "StoreKey             0\n",
      "ProductKey           0\n",
      "Quantity             0\n",
      "Currency Code        0\n",
      "dtype: int64\n"
     ]
    }
   ],
   "source": [
    "print(sales.isnull().sum())"
   ]
  },
  {
   "cell_type": "code",
   "execution_count": 59,
   "metadata": {},
   "outputs": [
    {
     "name": "stdout",
     "output_type": "stream",
     "text": [
      "Index(['Order Number', 'Line Item', 'Order Date', 'CustomerKey', 'StoreKey',\n",
      "       'ProductKey', 'Quantity', 'Currency Code'],\n",
      "      dtype='object')\n"
     ]
    }
   ],
   "source": [
    "sales_cleaned = sales.drop(columns=['Delivery Date'])\n",
    "print(sales_cleaned.columns)"
   ]
  },
  {
   "cell_type": "code",
   "execution_count": 55,
   "metadata": {},
   "outputs": [
    {
     "name": "stdout",
     "output_type": "stream",
     "text": [
      "Order Number              int64\n",
      "Line Item                 int64\n",
      "Order Date       datetime64[ns]\n",
      "CustomerKey               int64\n",
      "StoreKey                  int64\n",
      "ProductKey                int64\n",
      "Quantity                  int64\n",
      "Currency Code            object\n",
      "dtype: object\n"
     ]
    }
   ],
   "source": [
    "sales_cleaned['Order Date'] = pd.to_datetime(sales_cleaned['Order Date'], errors='coerce')\n",
    "print(sales_cleaned.dtypes)\n"
   ]
  },
  {
   "cell_type": "code",
   "execution_count": 60,
   "metadata": {},
   "outputs": [
    {
     "data": {
      "text/html": [
       "<div>\n",
       "<style scoped>\n",
       "    .dataframe tbody tr th:only-of-type {\n",
       "        vertical-align: middle;\n",
       "    }\n",
       "\n",
       "    .dataframe tbody tr th {\n",
       "        vertical-align: top;\n",
       "    }\n",
       "\n",
       "    .dataframe thead th {\n",
       "        text-align: right;\n",
       "    }\n",
       "</style>\n",
       "<table border=\"1\" class=\"dataframe\">\n",
       "  <thead>\n",
       "    <tr style=\"text-align: right;\">\n",
       "      <th></th>\n",
       "      <th>Order Number</th>\n",
       "      <th>Line Item</th>\n",
       "      <th>Order Date</th>\n",
       "      <th>CustomerKey</th>\n",
       "      <th>StoreKey</th>\n",
       "      <th>ProductKey</th>\n",
       "      <th>Quantity</th>\n",
       "      <th>Currency Code</th>\n",
       "    </tr>\n",
       "  </thead>\n",
       "  <tbody>\n",
       "    <tr>\n",
       "      <th>0</th>\n",
       "      <td>366000</td>\n",
       "      <td>1</td>\n",
       "      <td>1/1/2016</td>\n",
       "      <td>265598</td>\n",
       "      <td>10</td>\n",
       "      <td>1304</td>\n",
       "      <td>1</td>\n",
       "      <td>CAD</td>\n",
       "    </tr>\n",
       "    <tr>\n",
       "      <th>1</th>\n",
       "      <td>366001</td>\n",
       "      <td>1</td>\n",
       "      <td>1/1/2016</td>\n",
       "      <td>1269051</td>\n",
       "      <td>0</td>\n",
       "      <td>1048</td>\n",
       "      <td>2</td>\n",
       "      <td>USD</td>\n",
       "    </tr>\n",
       "    <tr>\n",
       "      <th>2</th>\n",
       "      <td>366001</td>\n",
       "      <td>2</td>\n",
       "      <td>1/1/2016</td>\n",
       "      <td>1269051</td>\n",
       "      <td>0</td>\n",
       "      <td>2007</td>\n",
       "      <td>1</td>\n",
       "      <td>USD</td>\n",
       "    </tr>\n",
       "    <tr>\n",
       "      <th>3</th>\n",
       "      <td>366002</td>\n",
       "      <td>1</td>\n",
       "      <td>1/1/2016</td>\n",
       "      <td>266019</td>\n",
       "      <td>0</td>\n",
       "      <td>1106</td>\n",
       "      <td>7</td>\n",
       "      <td>CAD</td>\n",
       "    </tr>\n",
       "    <tr>\n",
       "      <th>4</th>\n",
       "      <td>366002</td>\n",
       "      <td>2</td>\n",
       "      <td>1/1/2016</td>\n",
       "      <td>266019</td>\n",
       "      <td>0</td>\n",
       "      <td>373</td>\n",
       "      <td>1</td>\n",
       "      <td>CAD</td>\n",
       "    </tr>\n",
       "    <tr>\n",
       "      <th>...</th>\n",
       "      <td>...</td>\n",
       "      <td>...</td>\n",
       "      <td>...</td>\n",
       "      <td>...</td>\n",
       "      <td>...</td>\n",
       "      <td>...</td>\n",
       "      <td>...</td>\n",
       "      <td>...</td>\n",
       "    </tr>\n",
       "    <tr>\n",
       "      <th>62879</th>\n",
       "      <td>2243030</td>\n",
       "      <td>1</td>\n",
       "      <td>2/20/2021</td>\n",
       "      <td>1216913</td>\n",
       "      <td>43</td>\n",
       "      <td>632</td>\n",
       "      <td>3</td>\n",
       "      <td>USD</td>\n",
       "    </tr>\n",
       "    <tr>\n",
       "      <th>62880</th>\n",
       "      <td>2243031</td>\n",
       "      <td>1</td>\n",
       "      <td>2/20/2021</td>\n",
       "      <td>511229</td>\n",
       "      <td>0</td>\n",
       "      <td>98</td>\n",
       "      <td>4</td>\n",
       "      <td>EUR</td>\n",
       "    </tr>\n",
       "    <tr>\n",
       "      <th>62881</th>\n",
       "      <td>2243032</td>\n",
       "      <td>1</td>\n",
       "      <td>2/20/2021</td>\n",
       "      <td>331277</td>\n",
       "      <td>0</td>\n",
       "      <td>1613</td>\n",
       "      <td>2</td>\n",
       "      <td>CAD</td>\n",
       "    </tr>\n",
       "    <tr>\n",
       "      <th>62882</th>\n",
       "      <td>2243032</td>\n",
       "      <td>2</td>\n",
       "      <td>2/20/2021</td>\n",
       "      <td>331277</td>\n",
       "      <td>0</td>\n",
       "      <td>1717</td>\n",
       "      <td>2</td>\n",
       "      <td>CAD</td>\n",
       "    </tr>\n",
       "    <tr>\n",
       "      <th>62883</th>\n",
       "      <td>2243032</td>\n",
       "      <td>3</td>\n",
       "      <td>2/20/2021</td>\n",
       "      <td>331277</td>\n",
       "      <td>0</td>\n",
       "      <td>464</td>\n",
       "      <td>7</td>\n",
       "      <td>CAD</td>\n",
       "    </tr>\n",
       "  </tbody>\n",
       "</table>\n",
       "<p>62884 rows × 8 columns</p>\n",
       "</div>"
      ],
      "text/plain": [
       "       Order Number  Line Item Order Date  CustomerKey  StoreKey  ProductKey  \\\n",
       "0            366000          1   1/1/2016       265598        10        1304   \n",
       "1            366001          1   1/1/2016      1269051         0        1048   \n",
       "2            366001          2   1/1/2016      1269051         0        2007   \n",
       "3            366002          1   1/1/2016       266019         0        1106   \n",
       "4            366002          2   1/1/2016       266019         0         373   \n",
       "...             ...        ...        ...          ...       ...         ...   \n",
       "62879       2243030          1  2/20/2021      1216913        43         632   \n",
       "62880       2243031          1  2/20/2021       511229         0          98   \n",
       "62881       2243032          1  2/20/2021       331277         0        1613   \n",
       "62882       2243032          2  2/20/2021       331277         0        1717   \n",
       "62883       2243032          3  2/20/2021       331277         0         464   \n",
       "\n",
       "       Quantity Currency Code  \n",
       "0             1           CAD  \n",
       "1             2           USD  \n",
       "2             1           USD  \n",
       "3             7           CAD  \n",
       "4             1           CAD  \n",
       "...         ...           ...  \n",
       "62879         3           USD  \n",
       "62880         4           EUR  \n",
       "62881         2           CAD  \n",
       "62882         2           CAD  \n",
       "62883         7           CAD  \n",
       "\n",
       "[62884 rows x 8 columns]"
      ]
     },
     "execution_count": 60,
     "metadata": {},
     "output_type": "execute_result"
    }
   ],
   "source": [
    "sales_cleaned"
   ]
  },
  {
   "cell_type": "code",
   "execution_count": 57,
   "metadata": {},
   "outputs": [],
   "source": [
    "sales_cleaned.to_csv(r'C:\\Users\\navee\\OneDrive\\Desktop\\DATA_SPARK(project-2)\\Sales_cleaned.csv', index=False)\n",
    "\n"
   ]
  },
  {
   "cell_type": "markdown",
   "metadata": {},
   "source": [
    "**CUSTOMERS**"
   ]
  },
  {
   "cell_type": "code",
   "execution_count": 29,
   "metadata": {},
   "outputs": [],
   "source": [
    "import pandas as pd\n",
    "import numpy as np\n",
    "\n",
    "customers = pd.read_csv(r\"C:\\Users\\navee\\Downloads\\Customers.csv\", encoding='latin-1') "
   ]
  },
  {
   "cell_type": "code",
   "execution_count": 30,
   "metadata": {},
   "outputs": [
    {
     "name": "stdout",
     "output_type": "stream",
     "text": [
      "   CustomerKey  Gender               Name            City State Code  \\\n",
      "0          301  Female      Lilly Harding  WANDEARAH EAST         SA   \n",
      "1          325  Female       Madison Hull      MOUNT BUDD         WA   \n",
      "2          554  Female      Claire Ferres       WINJALLOK        VIC   \n",
      "3          786    Male  Jai Poltpalingada    MIDDLE RIVER         SA   \n",
      "4         1042    Male    Aidan Pankhurst   TAWONGA SOUTH        VIC   \n",
      "\n",
      "               State Zip Code    Country  Continent    Birthday  \n",
      "0    South Australia     5523  Australia  Australia    7/3/1939  \n",
      "1  Western Australia     6522  Australia  Australia   9/27/1979  \n",
      "2           Victoria     3380  Australia  Australia   5/26/1947  \n",
      "3    South Australia     5223  Australia  Australia   9/17/1957  \n",
      "4           Victoria     3698  Australia  Australia  11/19/1965  \n",
      "<class 'pandas.core.frame.DataFrame'>\n",
      "RangeIndex: 15266 entries, 0 to 15265\n",
      "Data columns (total 10 columns):\n",
      " #   Column       Non-Null Count  Dtype \n",
      "---  ------       --------------  ----- \n",
      " 0   CustomerKey  15266 non-null  int64 \n",
      " 1   Gender       15266 non-null  object\n",
      " 2   Name         15266 non-null  object\n",
      " 3   City         15266 non-null  object\n",
      " 4   State Code   15256 non-null  object\n",
      " 5   State        15266 non-null  object\n",
      " 6   Zip Code     15266 non-null  object\n",
      " 7   Country      15266 non-null  object\n",
      " 8   Continent    15266 non-null  object\n",
      " 9   Birthday     15266 non-null  object\n",
      "dtypes: int64(1), object(9)\n",
      "memory usage: 1.2+ MB\n",
      "None\n"
     ]
    }
   ],
   "source": [
    "print(customers.head())\n",
    "print(customers.info())"
   ]
  },
  {
   "cell_type": "code",
   "execution_count": 31,
   "metadata": {},
   "outputs": [],
   "source": [
    "customers.fillna({'State Code': 'Unknown'}, inplace=True)"
   ]
  },
  {
   "cell_type": "code",
   "execution_count": 32,
   "metadata": {},
   "outputs": [
    {
     "name": "stdout",
     "output_type": "stream",
     "text": [
      "<class 'pandas.core.frame.DataFrame'>\n",
      "RangeIndex: 15266 entries, 0 to 15265\n",
      "Data columns (total 10 columns):\n",
      " #   Column       Non-Null Count  Dtype         \n",
      "---  ------       --------------  -----         \n",
      " 0   CustomerKey  15266 non-null  int64         \n",
      " 1   Gender       15266 non-null  object        \n",
      " 2   Name         15266 non-null  object        \n",
      " 3   City         15266 non-null  object        \n",
      " 4   State Code   15266 non-null  object        \n",
      " 5   State        15266 non-null  object        \n",
      " 6   Zip Code     15266 non-null  object        \n",
      " 7   Country      15266 non-null  object        \n",
      " 8   Continent    15266 non-null  object        \n",
      " 9   Birthday     15266 non-null  datetime64[ns]\n",
      "dtypes: datetime64[ns](1), int64(1), object(8)\n",
      "memory usage: 1.2+ MB\n",
      "None\n"
     ]
    }
   ],
   "source": [
    "customers['Birthday'] = pd.to_datetime(customers['Birthday'], errors='coerce')\n",
    "print(customers.info())"
   ]
  },
  {
   "cell_type": "code",
   "execution_count": 33,
   "metadata": {},
   "outputs": [
    {
     "name": "stdout",
     "output_type": "stream",
     "text": [
      "0\n"
     ]
    }
   ],
   "source": [
    "print(customers['Birthday'].isna().sum())"
   ]
  },
  {
   "cell_type": "code",
   "execution_count": 36,
   "metadata": {},
   "outputs": [],
   "source": [
    "from datetime import datetime\n",
    "today = datetime.today()\n",
    "customers['Age'] = today.year - customers['Birthday'].dt.year\n",
    "customers['Age'] -= (today.month < customers['Birthday'].dt.month) | ((today.month == customers['Birthday'].dt.month) & (today.day < customers['Birthday'].dt.day))"
   ]
  },
  {
   "cell_type": "code",
   "execution_count": 40,
   "metadata": {},
   "outputs": [
    {
     "name": "stdout",
     "output_type": "stream",
     "text": [
      "<class 'pandas.core.frame.DataFrame'>\n",
      "RangeIndex: 15266 entries, 0 to 15265\n",
      "Data columns (total 11 columns):\n",
      " #   Column       Non-Null Count  Dtype         \n",
      "---  ------       --------------  -----         \n",
      " 0   CustomerKey  15266 non-null  int64         \n",
      " 1   Gender       15266 non-null  object        \n",
      " 2   Name         15266 non-null  object        \n",
      " 3   City         15266 non-null  object        \n",
      " 4   State Code   15266 non-null  object        \n",
      " 5   State        15266 non-null  object        \n",
      " 6   Zip Code     15266 non-null  object        \n",
      " 7   Country      15266 non-null  object        \n",
      " 8   Continent    15266 non-null  object        \n",
      " 9   Birthday     15266 non-null  datetime64[ns]\n",
      " 10  Age          15266 non-null  int32         \n",
      "dtypes: datetime64[ns](1), int32(1), int64(1), object(8)\n",
      "memory usage: 1.2+ MB\n",
      "None\n"
     ]
    }
   ],
   "source": [
    "print(customers.info())"
   ]
  },
  {
   "cell_type": "code",
   "execution_count": 41,
   "metadata": {},
   "outputs": [
    {
     "name": "stdout",
     "output_type": "stream",
     "text": [
      "       CustomerKey  Gender               Name                 City State Code  \\\n",
      "0              301  Female      Lilly Harding       WANDEARAH EAST         SA   \n",
      "1              325  Female       Madison Hull           MOUNT BUDD         WA   \n",
      "2              554  Female      Claire Ferres            WINJALLOK        VIC   \n",
      "3              786    Male  Jai Poltpalingada         MIDDLE RIVER         SA   \n",
      "4             1042    Male    Aidan Pankhurst        TAWONGA SOUTH        VIC   \n",
      "...            ...     ...                ...                  ...        ...   \n",
      "15261      2099600  Female     Denisa Duková              Houston         TX   \n",
      "15262      2099618    Male   Justin Solórzano               Mclean         VA   \n",
      "15263      2099758    Male    Svend Petrussen           Wilmington         NC   \n",
      "15264      2099862  Female       Lorenza Rush            Riverside         CA   \n",
      "15265      2099937    Male   Zygmunt Kaminski  Bloomfield Township         MI   \n",
      "\n",
      "                   State Zip Code        Country      Continent   Birthday  \\\n",
      "0        South Australia     5523      Australia      Australia 1939-07-03   \n",
      "1      Western Australia     6522      Australia      Australia 1979-09-27   \n",
      "2               Victoria     3380      Australia      Australia 1947-05-26   \n",
      "3        South Australia     5223      Australia      Australia 1957-09-17   \n",
      "4               Victoria     3698      Australia      Australia 1965-11-19   \n",
      "...                  ...      ...            ...            ...        ...   \n",
      "15261              Texas    77017  United States  North America 1936-03-25   \n",
      "15262           Virginia    22101  United States  North America 1992-02-16   \n",
      "15263     North Carolina    28405  United States  North America 1937-11-09   \n",
      "15264         California    92501  United States  North America 1937-10-12   \n",
      "15265           Michigan    48302  United States  North America 1965-08-18   \n",
      "\n",
      "       Age  \n",
      "0       85  \n",
      "1       45  \n",
      "2       77  \n",
      "3       67  \n",
      "4       58  \n",
      "...    ...  \n",
      "15261   88  \n",
      "15262   32  \n",
      "15263   86  \n",
      "15264   87  \n",
      "15265   59  \n",
      "\n",
      "[15266 rows x 11 columns]\n"
     ]
    }
   ],
   "source": [
    "print(customers)"
   ]
  },
  {
   "cell_type": "code",
   "execution_count": 43,
   "metadata": {},
   "outputs": [],
   "source": [
    "customers.to_csv(r\"C:\\Users\\navee\\OneDrive\\Desktop\\DATA_SPARK(project-2)\\cleanes_customers\", index=False)"
   ]
  },
  {
   "cell_type": "code",
   "execution_count": 5,
   "metadata": {},
   "outputs": [],
   "source": [
    "import pandas as pd\n",
    "import numpy as np\n",
    "\n",
    "cleanes_customers = pd.read_csv(r\"C:\\Users\\navee\\OneDrive\\Desktop\\DATA_SPARK(project-2)\\cleanes_customers\")"
   ]
  },
  {
   "cell_type": "code",
   "execution_count": 6,
   "metadata": {},
   "outputs": [
    {
     "name": "stdout",
     "output_type": "stream",
     "text": [
      "<class 'pandas.core.frame.DataFrame'>\n",
      "RangeIndex: 15266 entries, 0 to 15265\n",
      "Data columns (total 11 columns):\n",
      " #   Column       Non-Null Count  Dtype \n",
      "---  ------       --------------  ----- \n",
      " 0   CustomerKey  15266 non-null  int64 \n",
      " 1   Gender       15266 non-null  object\n",
      " 2   Name         15266 non-null  object\n",
      " 3   City         15266 non-null  object\n",
      " 4   State Code   15266 non-null  object\n",
      " 5   State        15266 non-null  object\n",
      " 6   Zip Code     15266 non-null  object\n",
      " 7   Country      15266 non-null  object\n",
      " 8   Continent    15266 non-null  object\n",
      " 9   Birthday     15266 non-null  object\n",
      " 10  Age          15266 non-null  int64 \n",
      "dtypes: int64(2), object(9)\n",
      "memory usage: 1.3+ MB\n",
      "None\n"
     ]
    }
   ],
   "source": [
    "print(cleanes_customers.info())"
   ]
  },
  {
   "cell_type": "markdown",
   "metadata": {},
   "source": [
    "**PRODUCT**"
   ]
  },
  {
   "cell_type": "code",
   "execution_count": 1,
   "metadata": {},
   "outputs": [],
   "source": [
    "import pandas as pd\n",
    "import numpy as np\n",
    "\n",
    "products = pd.read_csv(r\"C:\\Users\\navee\\Downloads\\Products.csv\")"
   ]
  },
  {
   "cell_type": "code",
   "execution_count": 3,
   "metadata": {},
   "outputs": [
    {
     "name": "stdout",
     "output_type": "stream",
     "text": [
      "<class 'pandas.core.frame.DataFrame'>\n",
      "RangeIndex: 2517 entries, 0 to 2516\n",
      "Data columns (total 10 columns):\n",
      " #   Column          Non-Null Count  Dtype \n",
      "---  ------          --------------  ----- \n",
      " 0   ProductKey      2517 non-null   int64 \n",
      " 1   Product Name    2517 non-null   object\n",
      " 2   Brand           2517 non-null   object\n",
      " 3   Color           2517 non-null   object\n",
      " 4   Unit Cost USD   2517 non-null   object\n",
      " 5   Unit Price USD  2517 non-null   object\n",
      " 6   SubcategoryKey  2517 non-null   int64 \n",
      " 7   Subcategory     2517 non-null   object\n",
      " 8   CategoryKey     2517 non-null   int64 \n",
      " 9   Category        2517 non-null   object\n",
      "dtypes: int64(3), object(7)\n",
      "memory usage: 196.8+ KB\n",
      "None\n",
      "   ProductKey                         Product Name    Brand   Color  \\\n",
      "0           1  Contoso 512MB MP3 Player E51 Silver  Contoso  Silver   \n",
      "1           2    Contoso 512MB MP3 Player E51 Blue  Contoso    Blue   \n",
      "2           3     Contoso 1G MP3 Player E100 White  Contoso   White   \n",
      "3           4    Contoso 2G MP3 Player E200 Silver  Contoso  Silver   \n",
      "4           5       Contoso 2G MP3 Player E200 Red  Contoso     Red   \n",
      "\n",
      "  Unit Cost USD Unit Price USD  SubcategoryKey Subcategory  CategoryKey  \\\n",
      "0        $6.62         $12.99              101     MP4&MP3            1   \n",
      "1        $6.62         $12.99              101     MP4&MP3            1   \n",
      "2        $7.40         $14.52              101     MP4&MP3            1   \n",
      "3       $11.00         $21.57              101     MP4&MP3            1   \n",
      "4       $11.00         $21.57              101     MP4&MP3            1   \n",
      "\n",
      "  Category  \n",
      "0    Audio  \n",
      "1    Audio  \n",
      "2    Audio  \n",
      "3    Audio  \n",
      "4    Audio  \n"
     ]
    }
   ],
   "source": [
    "print(products.info())\n",
    "print(products.head())\n"
   ]
  },
  {
   "cell_type": "code",
   "execution_count": 4,
   "metadata": {},
   "outputs": [
    {
     "name": "stdout",
     "output_type": "stream",
     "text": [
      "ProductKey        0\n",
      "Product Name      0\n",
      "Brand             0\n",
      "Color             0\n",
      "Unit Cost USD     0\n",
      "Unit Price USD    0\n",
      "SubcategoryKey    0\n",
      "Subcategory       0\n",
      "CategoryKey       0\n",
      "Category          0\n",
      "dtype: int64\n"
     ]
    }
   ],
   "source": [
    "print(products.isnull().sum())"
   ]
  },
  {
   "cell_type": "code",
   "execution_count": 5,
   "metadata": {},
   "outputs": [],
   "source": [
    "products['Unit Cost USD'] = products['Unit Cost USD'].str.replace(r'[^\\d.]', '', regex=True)\n",
    "products['Unit Price USD'] = products['Unit Price USD'].str.replace(r'[^\\d.]', '', regex=True)"
   ]
  },
  {
   "cell_type": "code",
   "execution_count": 6,
   "metadata": {},
   "outputs": [],
   "source": [
    "products['Unit Cost USD'] = pd.to_numeric(products['Unit Cost USD'], errors='coerce')\n",
    "products['Unit Price USD'] = pd.to_numeric(products['Unit Price USD'], errors='coerce')"
   ]
  },
  {
   "cell_type": "code",
   "execution_count": 7,
   "metadata": {},
   "outputs": [
    {
     "name": "stdout",
     "output_type": "stream",
     "text": [
      "   Unit Cost USD  Unit Price USD\n",
      "0           6.62           12.99\n",
      "1           6.62           12.99\n",
      "2           7.40           14.52\n",
      "3          11.00           21.57\n",
      "4          11.00           21.57\n"
     ]
    }
   ],
   "source": [
    "print(products[['Unit Cost USD', 'Unit Price USD']].head())"
   ]
  },
  {
   "cell_type": "code",
   "execution_count": 8,
   "metadata": {},
   "outputs": [
    {
     "name": "stdout",
     "output_type": "stream",
     "text": [
      "Unit Cost USD     0\n",
      "Unit Price USD    0\n",
      "dtype: int64\n"
     ]
    }
   ],
   "source": [
    "print(products[['Unit Cost USD', 'Unit Price USD']].isnull().sum())"
   ]
  },
  {
   "cell_type": "code",
   "execution_count": 9,
   "metadata": {},
   "outputs": [
    {
     "name": "stdout",
     "output_type": "stream",
     "text": [
      "                          Product Name    Brand   Color Subcategory Category\n",
      "0  Contoso 512MB MP3 Player E51 Silver  Contoso  Silver     MP4&MP3    Audio\n",
      "1    Contoso 512MB MP3 Player E51 Blue  Contoso    Blue     MP4&MP3    Audio\n",
      "2     Contoso 1G MP3 Player E100 White  Contoso   White     MP4&MP3    Audio\n",
      "3    Contoso 2G MP3 Player E200 Silver  Contoso  Silver     MP4&MP3    Audio\n",
      "4       Contoso 2G MP3 Player E200 Red  Contoso     Red     MP4&MP3    Audio\n"
     ]
    }
   ],
   "source": [
    "print(products[['Product Name', 'Brand', 'Color', 'Subcategory', 'Category']].head())"
   ]
  },
  {
   "cell_type": "code",
   "execution_count": 10,
   "metadata": {},
   "outputs": [
    {
     "name": "stdout",
     "output_type": "stream",
     "text": [
      "  Subcategory Category\n",
      "0     MP4&MP3    Audio\n",
      "1     MP4&MP3    Audio\n",
      "2     MP4&MP3    Audio\n",
      "3     MP4&MP3    Audio\n",
      "4     MP4&MP3    Audio\n"
     ]
    }
   ],
   "source": [
    "print(products[['Subcategory', 'Category']].head())"
   ]
  },
  {
   "cell_type": "code",
   "execution_count": 15,
   "metadata": {},
   "outputs": [
    {
     "name": "stdout",
     "output_type": "stream",
     "text": [
      "Color\n",
      "Black          602\n",
      "White          505\n",
      "Silver         417\n",
      "Grey           283\n",
      "Blue           200\n",
      "Red             99\n",
      "Pink            84\n",
      "Brown           77\n",
      "Green           74\n",
      "Orange          55\n",
      "Gold            50\n",
      "Yellow          36\n",
      "Silver Grey     14\n",
      "Azure           14\n",
      "Purple           6\n",
      "Transparent      1\n",
      "Name: count, dtype: int64\n"
     ]
    }
   ],
   "source": [
    "print(products['Color'].value_counts())\n"
   ]
  },
  {
   "cell_type": "code",
   "execution_count": 16,
   "metadata": {},
   "outputs": [
    {
     "name": "stdout",
     "output_type": "stream",
     "text": [
      "Empty DataFrame\n",
      "Columns: [ProductKey, Product Name, Brand, Color, Unit Cost USD, Unit Price USD, SubcategoryKey, Subcategory, CategoryKey, Category]\n",
      "Index: []\n"
     ]
    }
   ],
   "source": [
    "print(products[(products['Unit Cost USD'] < 0) | (products['Unit Price USD'] < 0)])"
   ]
  },
  {
   "cell_type": "code",
   "execution_count": 18,
   "metadata": {},
   "outputs": [
    {
     "name": "stdout",
     "output_type": "stream",
     "text": [
      "<class 'pandas.core.frame.DataFrame'>\n",
      "RangeIndex: 2517 entries, 0 to 2516\n",
      "Data columns (total 10 columns):\n",
      " #   Column          Non-Null Count  Dtype  \n",
      "---  ------          --------------  -----  \n",
      " 0   ProductKey      2517 non-null   int64  \n",
      " 1   Product Name    2517 non-null   object \n",
      " 2   Brand           2517 non-null   object \n",
      " 3   Color           2517 non-null   object \n",
      " 4   Unit Cost USD   2517 non-null   float64\n",
      " 5   Unit Price USD  2517 non-null   float64\n",
      " 6   SubcategoryKey  2517 non-null   int64  \n",
      " 7   Subcategory     2517 non-null   object \n",
      " 8   CategoryKey     2517 non-null   int64  \n",
      " 9   Category        2517 non-null   object \n",
      "dtypes: float64(2), int64(3), object(5)\n",
      "memory usage: 196.8+ KB\n",
      "None\n"
     ]
    }
   ],
   "source": [
    "print(products.info())"
   ]
  },
  {
   "cell_type": "code",
   "execution_count": 19,
   "metadata": {},
   "outputs": [],
   "source": [
    "products.to_csv(r'C:\\Users\\navee\\OneDrive\\Desktop\\DATA_SPARK(project-2)\\cleaned_products.csv', index=False)"
   ]
  },
  {
   "cell_type": "markdown",
   "metadata": {},
   "source": [
    "**STORES**"
   ]
  },
  {
   "cell_type": "code",
   "execution_count": 20,
   "metadata": {},
   "outputs": [],
   "source": [
    "import pandas as pd\n",
    "import numpy as np\n",
    "\n",
    "stores = pd.read_csv(r\"C:\\Users\\navee\\Downloads\\Stores.csv\")"
   ]
  },
  {
   "cell_type": "code",
   "execution_count": 21,
   "metadata": {},
   "outputs": [
    {
     "name": "stdout",
     "output_type": "stream",
     "text": [
      "<class 'pandas.core.frame.DataFrame'>\n",
      "RangeIndex: 67 entries, 0 to 66\n",
      "Data columns (total 5 columns):\n",
      " #   Column         Non-Null Count  Dtype  \n",
      "---  ------         --------------  -----  \n",
      " 0   StoreKey       67 non-null     int64  \n",
      " 1   Country        67 non-null     object \n",
      " 2   State          67 non-null     object \n",
      " 3   Square Meters  66 non-null     float64\n",
      " 4   Open Date      67 non-null     object \n",
      "dtypes: float64(1), int64(1), object(3)\n",
      "memory usage: 2.7+ KB\n",
      "None\n"
     ]
    }
   ],
   "source": [
    "print(stores.info())"
   ]
  },
  {
   "cell_type": "code",
   "execution_count": 22,
   "metadata": {},
   "outputs": [
    {
     "name": "stdout",
     "output_type": "stream",
     "text": [
      "StoreKey         0\n",
      "Country          0\n",
      "State            0\n",
      "Square Meters    1\n",
      "Open Date        0\n",
      "dtype: int64\n"
     ]
    }
   ],
   "source": [
    "print(stores.isnull().sum())"
   ]
  },
  {
   "cell_type": "code",
   "execution_count": 23,
   "metadata": {},
   "outputs": [],
   "source": [
    "stores['Square Meters'] = stores['Square Meters'].fillna(stores['Square Meters'].median())"
   ]
  },
  {
   "cell_type": "code",
   "execution_count": 24,
   "metadata": {},
   "outputs": [
    {
     "name": "stdout",
     "output_type": "stream",
     "text": [
      "StoreKey         0\n",
      "Country          0\n",
      "State            0\n",
      "Square Meters    0\n",
      "Open Date        0\n",
      "dtype: int64\n"
     ]
    }
   ],
   "source": [
    "print(stores.isnull().sum())"
   ]
  },
  {
   "cell_type": "code",
   "execution_count": 25,
   "metadata": {},
   "outputs": [],
   "source": [
    "stores['Open Date'] = pd.to_datetime(stores['Open Date'], errors='coerce')"
   ]
  },
  {
   "cell_type": "code",
   "execution_count": 26,
   "metadata": {},
   "outputs": [
    {
     "name": "stdout",
     "output_type": "stream",
     "text": [
      "StoreKey                  int64\n",
      "Country                  object\n",
      "State                    object\n",
      "Square Meters           float64\n",
      "Open Date        datetime64[ns]\n",
      "dtype: object\n"
     ]
    }
   ],
   "source": [
    "print(stores.dtypes)"
   ]
  },
  {
   "cell_type": "code",
   "execution_count": 27,
   "metadata": {},
   "outputs": [],
   "source": [
    "stores['Store Age'] = (pd.to_datetime('today') - stores['Open Date']).dt.days / 365"
   ]
  },
  {
   "cell_type": "code",
   "execution_count": 29,
   "metadata": {},
   "outputs": [
    {
     "name": "stdout",
     "output_type": "stream",
     "text": [
      "   Store Age\n",
      "0  16.810959\n",
      "1  16.780822\n",
      "2  12.791781\n",
      "3  14.808219\n",
      "4   8.868493\n"
     ]
    }
   ],
   "source": [
    "print(stores[['Store Age']].head())"
   ]
  },
  {
   "cell_type": "code",
   "execution_count": 30,
   "metadata": {},
   "outputs": [
    {
     "name": "stdout",
     "output_type": "stream",
     "text": [
      "     Country                         State\n",
      "0  Australia  Australian Capital Territory\n",
      "1  Australia            Northern Territory\n",
      "2  Australia               South Australia\n",
      "3  Australia                      Tasmania\n",
      "4  Australia                      Victoria\n"
     ]
    }
   ],
   "source": [
    "print(stores[['Country', 'State']].head())"
   ]
  },
  {
   "cell_type": "code",
   "execution_count": 32,
   "metadata": {},
   "outputs": [
    {
     "name": "stdout",
     "output_type": "stream",
     "text": [
      "0\n"
     ]
    }
   ],
   "source": [
    "print(stores.duplicated(subset=['Country', 'State']).sum())"
   ]
  },
  {
   "cell_type": "code",
   "execution_count": 33,
   "metadata": {},
   "outputs": [
    {
     "name": "stdout",
     "output_type": "stream",
     "text": [
      "<class 'pandas.core.frame.DataFrame'>\n",
      "RangeIndex: 67 entries, 0 to 66\n",
      "Data columns (total 6 columns):\n",
      " #   Column         Non-Null Count  Dtype         \n",
      "---  ------         --------------  -----         \n",
      " 0   StoreKey       67 non-null     int64         \n",
      " 1   Country        67 non-null     object        \n",
      " 2   State          67 non-null     object        \n",
      " 3   Square Meters  67 non-null     float64       \n",
      " 4   Open Date      67 non-null     datetime64[ns]\n",
      " 5   Store Age      67 non-null     float64       \n",
      "dtypes: datetime64[ns](1), float64(2), int64(1), object(2)\n",
      "memory usage: 3.3+ KB\n",
      "None\n"
     ]
    }
   ],
   "source": [
    "print(stores.info())"
   ]
  },
  {
   "cell_type": "code",
   "execution_count": 35,
   "metadata": {},
   "outputs": [],
   "source": [
    "stores.to_csv(r'C:\\Users\\navee\\OneDrive\\Desktop\\DATA_SPARK(project-2)\\cleaned_stores.csv', index=False)"
   ]
  },
  {
   "cell_type": "markdown",
   "metadata": {},
   "source": [
    "**EXCHANGE_RATES**"
   ]
  },
  {
   "cell_type": "code",
   "execution_count": 36,
   "metadata": {},
   "outputs": [],
   "source": [
    "import pandas as pd\n",
    "import numpy as np\n",
    "\n",
    "exchange_rates = pd.read_csv(r\"C:\\Users\\navee\\Downloads\\Exchange_Rates.csv\")"
   ]
  },
  {
   "cell_type": "code",
   "execution_count": 37,
   "metadata": {},
   "outputs": [
    {
     "name": "stdout",
     "output_type": "stream",
     "text": [
      "<class 'pandas.core.frame.DataFrame'>\n",
      "RangeIndex: 11215 entries, 0 to 11214\n",
      "Data columns (total 3 columns):\n",
      " #   Column    Non-Null Count  Dtype  \n",
      "---  ------    --------------  -----  \n",
      " 0   Date      11215 non-null  object \n",
      " 1   Currency  11215 non-null  object \n",
      " 2   Exchange  11215 non-null  float64\n",
      "dtypes: float64(1), object(2)\n",
      "memory usage: 263.0+ KB\n",
      "None\n"
     ]
    }
   ],
   "source": [
    "print(exchange_rates.info())"
   ]
  },
  {
   "cell_type": "code",
   "execution_count": 38,
   "metadata": {},
   "outputs": [
    {
     "name": "stdout",
     "output_type": "stream",
     "text": [
      "       Date Currency  Exchange\n",
      "0  1/1/2015      USD    1.0000\n",
      "1  1/1/2015      CAD    1.1583\n",
      "2  1/1/2015      AUD    1.2214\n",
      "3  1/1/2015      EUR    0.8237\n",
      "4  1/1/2015      GBP    0.6415\n"
     ]
    }
   ],
   "source": [
    "print(exchange_rates.head())"
   ]
  },
  {
   "cell_type": "code",
   "execution_count": 39,
   "metadata": {},
   "outputs": [],
   "source": [
    "exchange_rates['Date'] = pd.to_datetime(exchange_rates['Date'], errors='coerce')"
   ]
  },
  {
   "cell_type": "code",
   "execution_count": 41,
   "metadata": {},
   "outputs": [
    {
     "name": "stdout",
     "output_type": "stream",
     "text": [
      "<class 'pandas.core.frame.DataFrame'>\n",
      "RangeIndex: 11215 entries, 0 to 11214\n",
      "Data columns (total 3 columns):\n",
      " #   Column    Non-Null Count  Dtype         \n",
      "---  ------    --------------  -----         \n",
      " 0   Date      11215 non-null  datetime64[ns]\n",
      " 1   Currency  11215 non-null  object        \n",
      " 2   Exchange  11215 non-null  float64       \n",
      "dtypes: datetime64[ns](1), float64(1), object(1)\n",
      "memory usage: 263.0+ KB\n",
      "None\n",
      "        Date\n",
      "0 2015-01-01\n",
      "1 2015-01-01\n",
      "2 2015-01-01\n",
      "3 2015-01-01\n",
      "4 2015-01-01\n"
     ]
    }
   ],
   "source": [
    "print(exchange_rates.info())\n",
    "print(exchange_rates[['Date']].head())"
   ]
  },
  {
   "cell_type": "code",
   "execution_count": 42,
   "metadata": {},
   "outputs": [
    {
     "name": "stdout",
     "output_type": "stream",
     "text": [
      "Date        0\n",
      "Currency    0\n",
      "Exchange    0\n",
      "dtype: int64\n"
     ]
    }
   ],
   "source": [
    "print(exchange_rates.isnull().sum())"
   ]
  },
  {
   "cell_type": "code",
   "execution_count": 43,
   "metadata": {},
   "outputs": [
    {
     "name": "stdout",
     "output_type": "stream",
     "text": [
      "['USD' 'CAD' 'AUD' 'EUR' 'GBP']\n"
     ]
    }
   ],
   "source": [
    "print(exchange_rates['Currency'].unique())"
   ]
  },
  {
   "cell_type": "code",
   "execution_count": 45,
   "metadata": {},
   "outputs": [
    {
     "name": "stdout",
     "output_type": "stream",
     "text": [
      "(11215, 3)\n"
     ]
    }
   ],
   "source": [
    "print(exchange_rates.shape) "
   ]
  },
  {
   "cell_type": "code",
   "execution_count": 48,
   "metadata": {},
   "outputs": [
    {
     "name": "stdout",
     "output_type": "stream",
     "text": [
      "                      Date      Exchange\n",
      "count                11215  11215.000000\n",
      "mean   2018-01-26 00:00:00      1.061682\n",
      "min    2015-01-01 00:00:00      0.628500\n",
      "25%    2016-07-14 00:00:00      0.857800\n",
      "50%    2018-01-26 00:00:00      1.000000\n",
      "75%    2019-08-10 00:00:00      1.311900\n",
      "max    2021-02-20 00:00:00      1.725300\n",
      "std                    NaN      0.245519\n"
     ]
    }
   ],
   "source": [
    "exchange_rates = exchange_rates[(exchange_rates['Exchange'] > 0) & (exchange_rates['Exchange'] < 100)]\n",
    "print(exchange_rates.describe())"
   ]
  },
  {
   "cell_type": "code",
   "execution_count": 50,
   "metadata": {},
   "outputs": [],
   "source": [
    "exchange_rates.sort_values(by=['Date', 'Currency'], inplace=True)"
   ]
  },
  {
   "cell_type": "code",
   "execution_count": 51,
   "metadata": {},
   "outputs": [
    {
     "name": "stdout",
     "output_type": "stream",
     "text": [
      "        Date Currency  Exchange\n",
      "2 2015-01-01      AUD    1.2214\n",
      "1 2015-01-01      CAD    1.1583\n",
      "3 2015-01-01      EUR    0.8237\n",
      "4 2015-01-01      GBP    0.6415\n",
      "0 2015-01-01      USD    1.0000\n"
     ]
    }
   ],
   "source": [
    "print(exchange_rates.head())"
   ]
  },
  {
   "cell_type": "code",
   "execution_count": 53,
   "metadata": {},
   "outputs": [],
   "source": [
    "exchange_rates.to_csv(r'C:\\Users\\navee\\OneDrive\\Desktop\\DATA_SPARK(project-2)\\cleaned_exchange_rate_data.csv', index=False)"
   ]
  }
 ],
 "metadata": {
  "kernelspec": {
   "display_name": ".venv",
   "language": "python",
   "name": "python3"
  },
  "language_info": {
   "codemirror_mode": {
    "name": "ipython",
    "version": 3
   },
   "file_extension": ".py",
   "mimetype": "text/x-python",
   "name": "python",
   "nbconvert_exporter": "python",
   "pygments_lexer": "ipython3",
   "version": "3.12.2"
  }
 },
 "nbformat": 4,
 "nbformat_minor": 2
}
