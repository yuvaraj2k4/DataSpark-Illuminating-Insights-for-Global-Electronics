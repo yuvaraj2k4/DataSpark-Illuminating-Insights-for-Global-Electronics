{
 "cells": [
  {
   "cell_type": "markdown",
   "metadata": {},
   "source": [
    "**CUSTOMER_ANALYSIS**"
   ]
  },
  {
   "cell_type": "markdown",
   "metadata": {},
   "source": [
    "*Demographic Distribution*"
   ]
  },
  {
   "cell_type": "code",
   "execution_count": 2,
   "metadata": {},
   "outputs": [],
   "source": [
    "from datetime import datetime\n",
    "import pandas as pd\n",
    "full_data = pd.read_csv(r\"C:\\Users\\navee\\OneDrive\\Desktop\\DATA_SPARK(project-2)\\full_data\")"
   ]
  },
  {
   "cell_type": "code",
   "execution_count": 3,
   "metadata": {},
   "outputs": [],
   "source": [
    "gender_dist = full_data.groupby('Gender')['CustomerKey'].nunique().reset_index()\n",
    "gender_dist.rename(columns={'CustomerKey': 'Customer Count'}, inplace=True)"
   ]
  },
  {
   "cell_type": "code",
   "execution_count": 4,
   "metadata": {},
   "outputs": [
    {
     "name": "stdout",
     "output_type": "stream",
     "text": [
      "   Gender  Customer Count\n",
      "0  Female            5858\n",
      "1    Male            6029\n"
     ]
    }
   ],
   "source": [
    "print(gender_dist)"
   ]
  },
  {
   "cell_type": "code",
   "execution_count": 5,
   "metadata": {},
   "outputs": [],
   "source": [
    "age_dist = full_data['Age'].describe()"
   ]
  },
  {
   "cell_type": "code",
   "execution_count": 6,
   "metadata": {},
   "outputs": [
    {
     "name": "stdout",
     "output_type": "stream",
     "text": [
      "count    62884.000000\n",
      "mean        55.366039\n",
      "std         19.410219\n",
      "min         22.000000\n",
      "25%         39.000000\n",
      "50%         55.000000\n",
      "75%         72.000000\n",
      "max         89.000000\n",
      "Name: Age, dtype: float64\n"
     ]
    }
   ],
   "source": [
    "print(age_dist)"
   ]
  },
  {
   "cell_type": "code",
   "execution_count": 8,
   "metadata": {},
   "outputs": [],
   "source": [
    "location_dist = full_data.groupby(['City', 'State_x', 'Country_x', 'Continent'])['CustomerKey'].nunique().reset_index()\n",
    "location_dist.rename(columns={'CustomerKey': 'Customer Count'}, inplace=True)"
   ]
  },
  {
   "cell_type": "code",
   "execution_count": 9,
   "metadata": {},
   "outputs": [
    {
     "name": "stdout",
     "output_type": "stream",
     "text": [
      "                 City            State_x       Country_x Continent  \\\n",
      "0             A'CHILL           Highland  United Kingdom    Europe   \n",
      "1      ABBOTSKERSWELL        Teignbridge  United Kingdom    Europe   \n",
      "2               ABDON         Shropshire  United Kingdom    Europe   \n",
      "3            ABERAMAN  Rhondda Cynon Taf  United Kingdom    Europe   \n",
      "4            ABERERCH            Gwynedd  United Kingdom    Europe   \n",
      "...               ...                ...             ...       ...   \n",
      "7009  s-Hertogenbosch      Noord-Brabant     Netherlands    Europe   \n",
      "7010       ÉCHIROLLES        Rhône-Alpes          France    Europe   \n",
      "7011        ÉLANCOURT      Île-de-France          France    Europe   \n",
      "7012          ÉPERNAY  Champagne-Ardenne          France    Europe   \n",
      "7013           ÉVREUX    Haute-Normandie          France    Europe   \n",
      "\n",
      "      Customer Count  \n",
      "0                  1  \n",
      "1                  1  \n",
      "2                  1  \n",
      "3                  1  \n",
      "4                  1  \n",
      "...              ...  \n",
      "7009               3  \n",
      "7010               1  \n",
      "7011               1  \n",
      "7012               2  \n",
      "7013               1  \n",
      "\n",
      "[7014 rows x 5 columns]\n"
     ]
    }
   ],
   "source": [
    "print(location_dist)"
   ]
  },
  {
   "cell_type": "markdown",
   "metadata": {},
   "source": [
    "*Purchase Patterns*"
   ]
  },
  {
   "cell_type": "code",
   "execution_count": 10,
   "metadata": {},
   "outputs": [],
   "source": [
    "avg_order_value = full_data.groupby('CustomerKey')['Sales Amount'].mean().reset_index()\n",
    "avg_order_value.rename(columns={'Sales Amount': 'Avg Order Value'}, inplace=True)"
   ]
  },
  {
   "cell_type": "code",
   "execution_count": 11,
   "metadata": {},
   "outputs": [
    {
     "name": "stdout",
     "output_type": "stream",
     "text": [
      "   CustomerKey  Avg Order Value\n",
      "0          301         592.0000\n",
      "1          325         578.7670\n",
      "2          554         237.9275\n",
      "3         1042         374.9700\n",
      "4         1314         507.9720\n"
     ]
    }
   ],
   "source": [
    "print(avg_order_value.head())"
   ]
  },
  {
   "cell_type": "code",
   "execution_count": 36,
   "metadata": {},
   "outputs": [],
   "source": [
    "purchase_frequency = full_data.groupby('CustomerKey')['Order Number'].nunique().reset_index()\n",
    "purchase_frequency.rename(columns={'Order Number': 'Purchase Frequency'}, inplace=True)"
   ]
  },
  {
   "cell_type": "code",
   "execution_count": 78,
   "metadata": {},
   "outputs": [
    {
     "name": "stdout",
     "output_type": "stream",
     "text": [
      "   CustomerKey  Purchase Frequency\n",
      "0          301                   1\n",
      "1          325                   3\n",
      "2          554                   2\n",
      "3         1042                   1\n",
      "4         1314                   1\n"
     ]
    }
   ],
   "source": [
    "print(purchase_frequency.head())"
   ]
  },
  {
   "cell_type": "code",
   "execution_count": 38,
   "metadata": {},
   "outputs": [],
   "source": [
    "preferred_products = full_data.groupby('Product Name')['Quantity'].sum().reset_index()\n",
    "preferred_products = preferred_products.sort_values(by='Quantity', ascending=False)"
   ]
  },
  {
   "cell_type": "code",
   "execution_count": 79,
   "metadata": {},
   "outputs": [
    {
     "name": "stdout",
     "output_type": "stream",
     "text": [
      "                                    Product Name  Quantity\n",
      "2381              WWI Desktop PC2.33 X2330 Black       550\n",
      "2371              WWI Desktop PC1.80 E1800 White       538\n",
      "243   Adventure Works Desktop PC2.30 MD230 White       521\n",
      "228   Adventure Works Desktop PC1.60 ED160 Black       521\n",
      "232   Adventure Works Desktop PC1.80 ED180 Black       520\n"
     ]
    }
   ],
   "source": [
    "print(preferred_products.head())"
   ]
  },
  {
   "cell_type": "markdown",
   "metadata": {},
   "source": [
    "*Customer Segmentation*"
   ]
  },
  {
   "cell_type": "code",
   "execution_count": 12,
   "metadata": {},
   "outputs": [],
   "source": [
    "bins = [0, 18, 30, 50, 100]\n",
    "labels = ['18 and below', '19-30', '31-50', '51 and above']\n",
    "full_data['Age Group'] = pd.cut(full_data['Age'], bins=bins, labels=labels)"
   ]
  },
  {
   "cell_type": "code",
   "execution_count": 13,
   "metadata": {},
   "outputs": [
    {
     "name": "stderr",
     "output_type": "stream",
     "text": [
      "C:\\Users\\navee\\AppData\\Local\\Temp\\ipykernel_15176\\3876761993.py:1: FutureWarning: The default of observed=False is deprecated and will be changed to True in a future version of pandas. Pass observed=False to retain current behavior or observed=True to adopt the future default and silence this warning.\n",
      "  customer_segment = full_data.groupby('Age Group')['Sales Amount'].mean().reset_index()\n"
     ]
    }
   ],
   "source": [
    "customer_segment = full_data.groupby('Age Group')['Sales Amount'].mean().reset_index()\n",
    "customer_segment = full_data.groupby('Age Group', observed=True)['Sales Amount'].mean().reset_index()\n"
   ]
  },
  {
   "cell_type": "code",
   "execution_count": 14,
   "metadata": {},
   "outputs": [
    {
     "name": "stdout",
     "output_type": "stream",
     "text": [
      "      Age Group  Sales Amount\n",
      "0         19-30    870.021946\n",
      "1         31-50    897.024000\n",
      "2  51 and above    885.041011\n"
     ]
    }
   ],
   "source": [
    "print(customer_segment)"
   ]
  },
  {
   "cell_type": "markdown",
   "metadata": {},
   "source": [
    "**SALES ANALYSIS**"
   ]
  },
  {
   "cell_type": "markdown",
   "metadata": {},
   "source": [
    "*overall sales analysis*"
   ]
  },
  {
   "cell_type": "code",
   "execution_count": 82,
   "metadata": {},
   "outputs": [
    {
     "name": "stdout",
     "output_type": "stream",
     "text": [
      "datetime64[ns]\n"
     ]
    }
   ],
   "source": [
    "print(full_data['Order Date'].dtype)\n"
   ]
  },
  {
   "cell_type": "code",
   "execution_count": 48,
   "metadata": {},
   "outputs": [],
   "source": [
    "full_data['Order Date'] = pd.to_datetime(full_data['Order Date'], errors='coerce')"
   ]
  },
  {
   "cell_type": "code",
   "execution_count": 83,
   "metadata": {},
   "outputs": [],
   "source": [
    "full_data['Month'] = full_data['Order Date'].dt.to_period('M')\n",
    "monthly_sales = full_data.groupby('Month')['Sales Amount'].sum().reset_index()"
   ]
  },
  {
   "cell_type": "code",
   "execution_count": 84,
   "metadata": {},
   "outputs": [
    {
     "data": {
      "image/png": "[encoded data removed]",
      "text/plain": [
       "<Figure size 1000x600 with 1 Axes>"
      ]
     },
     "metadata": {},
     "output_type": "display_data"
    }
   ],
   "source": [
    "import matplotlib.pyplot as plt\n",
    "monthly_sales['Month'] = monthly_sales['Month'].dt.strftime('%Y-%m')\n",
    "plt.figure(figsize=(10, 6)) \n",
    "plt.plot(monthly_sales['Month'], monthly_sales['Sales Amount'])\n",
    "plt.title('Monthly Sales Performance')\n",
    "plt.xticks(rotation=45)\n",
    "plt.grid(True)\n",
    "plt.show()"
   ]
  },
  {
   "cell_type": "markdown",
   "metadata": {},
   "source": [
    "*Sales by Product*"
   ]
  },
  {
   "cell_type": "code",
   "execution_count": 60,
   "metadata": {},
   "outputs": [],
   "source": [
    "sales_by_product = full_data.groupby('Product Name').agg({'Quantity': 'sum', 'Sales Amount': 'sum'}).reset_index()\n",
    "sales_by_product = sales_by_product.sort_values(by='Sales Amount', ascending=False)"
   ]
  },
  {
   "cell_type": "code",
   "execution_count": 85,
   "metadata": {},
   "outputs": [
    {
     "name": "stdout",
     "output_type": "stream",
     "text": [
      "                                     Product Name  Quantity  Sales Amount\n",
      "2381               WWI Desktop PC2.33 X2330 Black       550      505450.0\n",
      "246   Adventure Works Desktop PC2.33 XD233 Silver       481      466089.0\n",
      "245    Adventure Works Desktop PC2.33 XD233 Brown       479      464151.0\n",
      "244    Adventure Works Desktop PC2.33 XD233 Black       462      447678.0\n",
      "247    Adventure Works Desktop PC2.33 XD233 White       451      437019.0\n"
     ]
    }
   ],
   "source": [
    "print(sales_by_product.head())"
   ]
  },
  {
   "cell_type": "markdown",
   "metadata": {},
   "source": [
    "*Sales by Store*"
   ]
  },
  {
   "cell_type": "code",
   "execution_count": 62,
   "metadata": {},
   "outputs": [],
   "source": [
    "sales_by_store = full_data.groupby('Store Location').agg({'Sales Amount': 'sum', 'Quantity': 'sum'}).reset_index()\n",
    "sales_by_store = sales_by_store.sort_values(by='Sales Amount', ascending=False)"
   ]
  },
  {
   "cell_type": "code",
   "execution_count": 86,
   "metadata": {},
   "outputs": [
    {
     "name": "stdout",
     "output_type": "stream",
     "text": [
      "                                          Store Location  Sales Amount  \\\n",
      "14715  Toronto, Newfoundland and Labrador, Canada, No...     175215.27   \n",
      "14716  Toronto, Northwest Territories, Canada, North ...     158394.10   \n",
      "14718             Toronto, Online, Online, North America     146615.92   \n",
      "8315     Las Vegas, Nevada, United States, North America     127615.12   \n",
      "14717            Toronto, Nunavut, Canada, North America     120412.58   \n",
      "\n",
      "       Quantity  \n",
      "14715       620  \n",
      "14716       613  \n",
      "14718       504  \n",
      "8315        381  \n",
      "14717       437  \n"
     ]
    }
   ],
   "source": [
    "print(sales_by_store.head())"
   ]
  },
  {
   "cell_type": "markdown",
   "metadata": {},
   "source": [
    "*Sales by Currency*"
   ]
  },
  {
   "cell_type": "code",
   "execution_count": 64,
   "metadata": {},
   "outputs": [],
   "source": [
    "sales_by_currency = full_data.groupby('Currency Code').agg({'Sales Amount': 'sum'}).reset_index()\n",
    "sales_by_currency['Sales Amount in USD'] = sales_by_currency['Sales Amount'] / full_data['Exchange']"
   ]
  },
  {
   "cell_type": "code",
   "execution_count": 87,
   "metadata": {},
   "outputs": [
    {
     "name": "stdout",
     "output_type": "stream",
     "text": [
      "  Currency Code  Sales Amount  Sales Amount in USD\n",
      "0           AUD    2708137.61         1.950546e+06\n",
      "1           CAD    4724334.63         4.724335e+06\n",
      "2           EUR   11367288.06         1.136729e+07\n",
      "3           GBP    7084088.12         5.102339e+06\n",
      "4           USD   29871631.17         2.151515e+07\n"
     ]
    }
   ],
   "source": [
    "print(sales_by_currency.head())"
   ]
  },
  {
   "cell_type": "markdown",
   "metadata": {},
   "source": [
    "**Product Analysis**"
   ]
  },
  {
   "cell_type": "markdown",
   "metadata": {},
   "source": [
    "*Product Popularity*"
   ]
  },
  {
   "cell_type": "code",
   "execution_count": 66,
   "metadata": {},
   "outputs": [],
   "source": [
    "popular_products = full_data.groupby('Product Name')['Quantity'].sum().reset_index()\n",
    "popular_products = popular_products.sort_values(by='Quantity', ascending=False)"
   ]
  },
  {
   "cell_type": "code",
   "execution_count": 88,
   "metadata": {},
   "outputs": [
    {
     "name": "stdout",
     "output_type": "stream",
     "text": [
      "                                    Product Name  Quantity\n",
      "2381              WWI Desktop PC2.33 X2330 Black       550\n",
      "2371              WWI Desktop PC1.80 E1800 White       538\n",
      "243   Adventure Works Desktop PC2.30 MD230 White       521\n",
      "228   Adventure Works Desktop PC1.60 ED160 Black       521\n",
      "232   Adventure Works Desktop PC1.80 ED180 Black       520\n"
     ]
    }
   ],
   "source": [
    "print(popular_products.head())"
   ]
  },
  {
   "cell_type": "markdown",
   "metadata": {},
   "source": [
    "*Profitability Analysis*"
   ]
  },
  {
   "cell_type": "code",
   "execution_count": 5,
   "metadata": {},
   "outputs": [],
   "source": [
    "full_data['Profit Margin'] = (full_data['Unit Price USD'] - full_data['Unit Cost USD']) / full_data['Unit Price USD']\n",
    "product_profit_margin = product_profit_margin.sort_values(by='Profit Margin', ascending=False).reset_index(drop=True)"
   ]
  },
  {
   "cell_type": "code",
   "execution_count": 7,
   "metadata": {},
   "outputs": [
    {
     "name": "stdout",
     "output_type": "stream",
     "text": [
      "                                           Product Name  Profit Margin\n",
      "0           Contoso DVD 60 DVD Storage Binder L20 Black       0.668851\n",
      "1             Contoso DVD 60 DVD Storage Binder L20 Red       0.668851\n",
      "2          Contoso DVD 60 DVD Storage Binder L20 Silver       0.668851\n",
      "3                SV DVD 60 DVD Storage Binder L20 Black       0.668851\n",
      "4               SV DVD 60 DVD Storage Binder L20 Silver       0.668851\n",
      "...                                                 ...            ...\n",
      "2487                Contoso In-Line Coupler E180 Silver       0.489552\n",
      "2488                 Contoso In-Line Coupler E180 Black       0.489552\n",
      "2489  Contoso Rubberized Snap-On Cover Hard Case Cel...       0.489451\n",
      "2490  Contoso Rubberized Snap-On Cover Hard Case Cel...       0.489451\n",
      "2491  Contoso Rubberized Snap-On Cover Hard Case Cel...       0.489451\n",
      "\n",
      "[2492 rows x 2 columns]\n"
     ]
    }
   ],
   "source": [
    "print(product_profit_margin)"
   ]
  },
  {
   "cell_type": "markdown",
   "metadata": {},
   "source": [
    "*Category Analysis*"
   ]
  },
  {
   "cell_type": "code",
   "execution_count": 70,
   "metadata": {},
   "outputs": [],
   "source": [
    "sales_by_category = full_data.groupby('Category')['Sales Amount'].sum().reset_index()\n",
    "sales_by_category = sales_by_category.sort_values(by='Sales Amount', ascending=False)"
   ]
  },
  {
   "cell_type": "code",
   "execution_count": 90,
   "metadata": {},
   "outputs": [
    {
     "name": "stdout",
     "output_type": "stream",
     "text": [
      "                 Category  Sales Amount\n",
      "3               Computers   19301595.46\n",
      "5         Home Appliances   10795478.59\n",
      "1  Cameras and camcorders    6520168.02\n",
      "2             Cell phones    6183791.22\n",
      "7            TV and Video    5928982.69\n"
     ]
    }
   ],
   "source": [
    "print(sales_by_category.head())"
   ]
  },
  {
   "cell_type": "markdown",
   "metadata": {},
   "source": [
    "**Store Analysis**"
   ]
  },
  {
   "cell_type": "markdown",
   "metadata": {},
   "source": [
    "*Store Performance*"
   ]
  },
  {
   "cell_type": "code",
   "execution_count": 72,
   "metadata": {},
   "outputs": [],
   "source": [
    "store_performance = full_data.groupby('Store Location').agg({'Sales Amount': 'sum', 'Square Meters': 'mean'}).reset_index()"
   ]
  },
  {
   "cell_type": "code",
   "execution_count": 91,
   "metadata": {},
   "outputs": [
    {
     "name": "stdout",
     "output_type": "stream",
     "text": [
      "                                      Store Location  Sales Amount  \\\n",
      "0        A'CHILL, North Down, United Kingdom, Europe        270.72   \n",
      "1     ABBOTSKERSWELL, Armagh, United Kingdom, Europe        176.98   \n",
      "2  ABBOTSKERSWELL, Dungannon and South Tyrone, Un...        414.94   \n",
      "3  ABBOTSKERSWELL, Fermanagh, United Kingdom, Europe       1271.95   \n",
      "4             ABDON, Belfast, United Kingdom, Europe       5428.85   \n",
      "\n",
      "   Square Meters  \n",
      "0         1900.0  \n",
      "1         1300.0  \n",
      "2         1300.0  \n",
      "3         2100.0  \n",
      "4         1800.0  \n"
     ]
    }
   ],
   "source": [
    "print(store_performance.head())"
   ]
  },
  {
   "cell_type": "markdown",
   "metadata": {},
   "source": [
    "*Geographical Analysis*"
   ]
  },
  {
   "cell_type": "code",
   "execution_count": 5,
   "metadata": {},
   "outputs": [],
   "source": [
    "sales_by_region = full_data.groupby('Country_y')['Sales Amount'].sum().reset_index()\n",
    "sales_by_region = sales_by_region.sort_values(by='Sales Amount', ascending=False)"
   ]
  },
  {
   "cell_type": "code",
   "execution_count": 6,
   "metadata": {},
   "outputs": [
    {
     "name": "stdout",
     "output_type": "stream",
     "text": [
      "        Country_y  Sales Amount\n",
      "8   United States   23764425.86\n",
      "6          Online   11404324.63\n",
      "7  United Kingdom    5749769.78\n",
      "3         Germany    4246279.22\n",
      "1          Canada    3611561.79\n"
     ]
    }
   ],
   "source": [
    "print(sales_by_region.head())"
   ]
  }
 ],
 "metadata": {
  "kernelspec": {
   "display_name": ".venv",
   "language": "python",
   "name": "python3"
  },
  "language_info": {
   "codemirror_mode": {
    "name": "ipython",
    "version": 3
   },
   "file_extension": ".py",
   "mimetype": "text/x-python",
   "name": "python",
   "nbconvert_exporter": "python",
   "pygments_lexer": "ipython3",
   "version": "3.12.2"
  }
 },
 "nbformat": 4,
 "nbformat_minor": 2
}
